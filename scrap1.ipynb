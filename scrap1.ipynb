{
 "cells": [
  {
   "cell_type": "code",
   "execution_count": 3,
   "metadata": {},
   "outputs": [],
   "source": [
    "import xlrd\n",
    "\n",
    "# Variables\n",
    "xls_file_path = '/home/localadmin/Desktop/njstartscrape/njstartscrape/bidSearchResults.xls'"
   ]
  },
  {
   "cell_type": "code",
   "execution_count": 1,
   "metadata": {},
   "outputs": [],
   "source": [
    "import xlrd\n",
    "from selenium import webdriver\n",
    "import time\n",
    "from selenium.webdriver.common.by import By\n",
    "\n",
    "# Constants for the browser setup\n",
    "BINARY_LOCATION = '/home/localadmin/Documents/chromiumdriver/chrome-linux64/chrome'\n",
    "DOWNLOAD_DIRECTORY = '/home/localadmin/Desktop/njstartscrape'\n",
    "\n",
    "\n",
    "def download_from_njstart(url, binary_location=BINARY_LOCATION, download_directory=DOWNLOAD_DIRECTORY, close_browser_after=True):\n",
    "    \"\"\"\n",
    "    Downloads files from the given njstart URL.\n",
    "\n",
    "    Args:\n",
    "    - url (str): The URL to scrape.\n",
    "    - binary_location (str): Location of the Chrome binary.\n",
    "    - download_directory (str): Directory where files should be downloaded.\n",
    "    - close_browser_after (bool, optional): Flag to decide whether to close the browser after downloading. Defaults to True.\n",
    "\n",
    "    Returns:\n",
    "    None\n",
    "    \"\"\"\n",
    "    \n",
    "    # Setup the browser with given preferences\n",
    "    chrome_options = webdriver.ChromeOptions()\n",
    "    chrome_options.binary_location = binary_location\n",
    "    prefs = {'download.default_directory': download_directory}\n",
    "    chrome_options.add_experimental_option('prefs', prefs)\n",
    "    browser = webdriver.Chrome(options=chrome_options)\n",
    "\n",
    "    # Navigate to the page\n",
    "    browser.get(url)\n",
    "\n",
    "    # Give some time for JavaScript to load and modify the page\n",
    "    time.sleep(5)\n",
    "\n",
    "    # Identify all relevant anchor tags with href containing \"javascript:downloadFile(\"\n",
    "    links = browser.find_elements(by= By.XPATH, value='//a[contains(@href, \"javascript:downloadFile(\")]')\n",
    "\n",
    "    # Iterate over each link and click to initiate the download\n",
    "    for link in links:\n",
    "        link.click()\n",
    "        time.sleep(2)  # Allow time for the download to initiate\n",
    "\n",
    "    if close_browser_after:\n",
    "        browser.close()"
   ]
  },
  {
   "cell_type": "code",
   "execution_count": 2,
   "metadata": {},
   "outputs": [
    {
     "name": "stderr",
     "output_type": "stream",
     "text": [
      "The chromedriver version (116.0.5845.187) detected in PATH at /usr/bin/chromedriver might not be compatible with the detected chrome version (117.0.5938.88); currently, chromedriver 117.0.5938.88 is recommended for chrome 117.*, so it is advised to delete the driver in PATH and retry\n"
     ]
    }
   ],
   "source": [
    "download_from_njstart(\"https://www.njstart.gov/bso/external/bidDetail.sdo?docId=24DPP00924&external=true&parentUrl=close\")"
   ]
  },
  {
   "cell_type": "code",
   "execution_count": 6,
   "metadata": {},
   "outputs": [
    {
     "name": "stdout",
     "output_type": "stream",
     "text": [
      "403\n"
     ]
    }
   ],
   "source": [
    "urlsToScrape = []\n",
    "\n",
    "# Read the .xls file\n",
    "workbook = xlrd.open_workbook(xls_file_path)\n",
    "sheet = workbook.sheet_by_index(0)\n",
    "\n",
    "# Iterate through all the values in column A starting at A2\n",
    "for row in range(1, sheet.nrows):  # 1 to skip the header\n",
    "    value = sheet.cell_value(row, 0)  # 0 refers to column A\n",
    "    url = f\"https://www.njstart.gov/bso/external/bidDetail.sdo?docId={value}&external=true&parentUrl=close\"\n",
    "    urlsToScrape.append(url)\n",
    "\n",
    "print(len(urlsToScrape))\n"
   ]
  },
  {
   "cell_type": "code",
   "execution_count": 10,
   "metadata": {},
   "outputs": [
    {
     "name": "stderr",
     "output_type": "stream",
     "text": [
      "The chromedriver version (116.0.5845.187) detected in PATH at /usr/bin/chromedriver might not be compatible with the detected chrome version (117.0.5938.88); currently, chromedriver 117.0.5938.88 is recommended for chrome 117.*, so it is advised to delete the driver in PATH and retry\n"
     ]
    },
    {
     "ename": "WebDriverException",
     "evalue": "Message: unknown error: no chrome binary at /opt/google/chrome/google-chrome\nStacktrace:\n#0 0x560af295abf3 <unknown>\n#1 0x560af26956a7 <unknown>\n#2 0x560af26bdef9 <unknown>\n#3 0x560af26bca19 <unknown>\n#4 0x560af26fc8a1 <unknown>\n#5 0x560af26fbeef <unknown>\n#6 0x560af26f39f3 <unknown>\n#7 0x560af26c7c32 <unknown>\n#8 0x560af26c89de <unknown>\n#9 0x560af291f82d <unknown>\n#10 0x560af29240a7 <unknown>\n#11 0x560af292d4e8 <unknown>\n#12 0x560af2924ae0 <unknown>\n#13 0x560af28f580e <unknown>\n#14 0x560af2945568 <unknown>\n#15 0x560af294575a <unknown>\n#16 0x560af295420a <unknown>\n#17 0x7f1a71d69b43 <unknown>\n",
     "output_type": "error",
     "traceback": [
      "\u001b[0;31m---------------------------------------------------------------------------\u001b[0m",
      "\u001b[0;31mWebDriverException\u001b[0m                        Traceback (most recent call last)",
      "Cell \u001b[0;32mIn[10], line 12\u001b[0m\n\u001b[1;32m     10\u001b[0m prefs \u001b[39m=\u001b[39m {\u001b[39m'\u001b[39m\u001b[39mdownload.default_directory\u001b[39m\u001b[39m'\u001b[39m: \u001b[39m'\u001b[39m\u001b[39m/home/localadmin/Desktop/njstartscrape\u001b[39m\u001b[39m'\u001b[39m}\n\u001b[1;32m     11\u001b[0m chrome_options\u001b[39m.\u001b[39madd_experimental_option(\u001b[39m'\u001b[39m\u001b[39mprefs\u001b[39m\u001b[39m'\u001b[39m, prefs)\n\u001b[0;32m---> 12\u001b[0m browser \u001b[39m=\u001b[39m webdriver\u001b[39m.\u001b[39;49mChrome(options \u001b[39m=\u001b[39;49m chrome_options)\n\u001b[1;32m     14\u001b[0m \u001b[39m# Navigate to the page\u001b[39;00m\n\u001b[1;32m     15\u001b[0m browser\u001b[39m.\u001b[39mget(url)\n",
      "File \u001b[0;32m~/anaconda3/envs/njstartscrape/lib/python3.11/site-packages/selenium/webdriver/chrome/webdriver.py:45\u001b[0m, in \u001b[0;36mWebDriver.__init__\u001b[0;34m(self, options, service, keep_alive)\u001b[0m\n\u001b[1;32m     42\u001b[0m service \u001b[39m=\u001b[39m service \u001b[39mif\u001b[39;00m service \u001b[39melse\u001b[39;00m Service()\n\u001b[1;32m     43\u001b[0m options \u001b[39m=\u001b[39m options \u001b[39mif\u001b[39;00m options \u001b[39melse\u001b[39;00m Options()\n\u001b[0;32m---> 45\u001b[0m \u001b[39msuper\u001b[39;49m()\u001b[39m.\u001b[39;49m\u001b[39m__init__\u001b[39;49m(\n\u001b[1;32m     46\u001b[0m     DesiredCapabilities\u001b[39m.\u001b[39;49mCHROME[\u001b[39m\"\u001b[39;49m\u001b[39mbrowserName\u001b[39;49m\u001b[39m\"\u001b[39;49m],\n\u001b[1;32m     47\u001b[0m     \u001b[39m\"\u001b[39;49m\u001b[39mgoog\u001b[39;49m\u001b[39m\"\u001b[39;49m,\n\u001b[1;32m     48\u001b[0m     options,\n\u001b[1;32m     49\u001b[0m     service,\n\u001b[1;32m     50\u001b[0m     keep_alive,\n\u001b[1;32m     51\u001b[0m )\n",
      "File \u001b[0;32m~/anaconda3/envs/njstartscrape/lib/python3.11/site-packages/selenium/webdriver/chromium/webdriver.py:56\u001b[0m, in \u001b[0;36mChromiumDriver.__init__\u001b[0;34m(self, browser_name, vendor_prefix, options, service, keep_alive)\u001b[0m\n\u001b[1;32m     53\u001b[0m \u001b[39mself\u001b[39m\u001b[39m.\u001b[39mservice\u001b[39m.\u001b[39mstart()\n\u001b[1;32m     55\u001b[0m \u001b[39mtry\u001b[39;00m:\n\u001b[0;32m---> 56\u001b[0m     \u001b[39msuper\u001b[39;49m()\u001b[39m.\u001b[39;49m\u001b[39m__init__\u001b[39;49m(\n\u001b[1;32m     57\u001b[0m         command_executor\u001b[39m=\u001b[39;49mChromiumRemoteConnection(\n\u001b[1;32m     58\u001b[0m             remote_server_addr\u001b[39m=\u001b[39;49m\u001b[39mself\u001b[39;49m\u001b[39m.\u001b[39;49mservice\u001b[39m.\u001b[39;49mservice_url,\n\u001b[1;32m     59\u001b[0m             browser_name\u001b[39m=\u001b[39;49mbrowser_name,\n\u001b[1;32m     60\u001b[0m             vendor_prefix\u001b[39m=\u001b[39;49mvendor_prefix,\n\u001b[1;32m     61\u001b[0m             keep_alive\u001b[39m=\u001b[39;49mkeep_alive,\n\u001b[1;32m     62\u001b[0m             ignore_proxy\u001b[39m=\u001b[39;49moptions\u001b[39m.\u001b[39;49m_ignore_local_proxy,\n\u001b[1;32m     63\u001b[0m         ),\n\u001b[1;32m     64\u001b[0m         options\u001b[39m=\u001b[39;49moptions,\n\u001b[1;32m     65\u001b[0m     )\n\u001b[1;32m     66\u001b[0m \u001b[39mexcept\u001b[39;00m \u001b[39mException\u001b[39;00m:\n\u001b[1;32m     67\u001b[0m     \u001b[39mself\u001b[39m\u001b[39m.\u001b[39mquit()\n",
      "File \u001b[0;32m~/anaconda3/envs/njstartscrape/lib/python3.11/site-packages/selenium/webdriver/remote/webdriver.py:205\u001b[0m, in \u001b[0;36mWebDriver.__init__\u001b[0;34m(self, command_executor, keep_alive, file_detector, options)\u001b[0m\n\u001b[1;32m    203\u001b[0m \u001b[39mself\u001b[39m\u001b[39m.\u001b[39m_authenticator_id \u001b[39m=\u001b[39m \u001b[39mNone\u001b[39;00m\n\u001b[1;32m    204\u001b[0m \u001b[39mself\u001b[39m\u001b[39m.\u001b[39mstart_client()\n\u001b[0;32m--> 205\u001b[0m \u001b[39mself\u001b[39;49m\u001b[39m.\u001b[39;49mstart_session(capabilities)\n",
      "File \u001b[0;32m~/anaconda3/envs/njstartscrape/lib/python3.11/site-packages/selenium/webdriver/remote/webdriver.py:289\u001b[0m, in \u001b[0;36mWebDriver.start_session\u001b[0;34m(self, capabilities)\u001b[0m\n\u001b[1;32m    282\u001b[0m \u001b[39m\u001b[39m\u001b[39m\"\"\"Creates a new session with the desired capabilities.\u001b[39;00m\n\u001b[1;32m    283\u001b[0m \n\u001b[1;32m    284\u001b[0m \u001b[39m:Args:\u001b[39;00m\n\u001b[1;32m    285\u001b[0m \u001b[39m - capabilities - a capabilities dict to start the session with.\u001b[39;00m\n\u001b[1;32m    286\u001b[0m \u001b[39m\"\"\"\u001b[39;00m\n\u001b[1;32m    288\u001b[0m caps \u001b[39m=\u001b[39m _create_caps(capabilities)\n\u001b[0;32m--> 289\u001b[0m response \u001b[39m=\u001b[39m \u001b[39mself\u001b[39;49m\u001b[39m.\u001b[39;49mexecute(Command\u001b[39m.\u001b[39;49mNEW_SESSION, caps)[\u001b[39m\"\u001b[39m\u001b[39mvalue\u001b[39m\u001b[39m\"\u001b[39m]\n\u001b[1;32m    290\u001b[0m \u001b[39mself\u001b[39m\u001b[39m.\u001b[39msession_id \u001b[39m=\u001b[39m response\u001b[39m.\u001b[39mget(\u001b[39m\"\u001b[39m\u001b[39msessionId\u001b[39m\u001b[39m\"\u001b[39m)\n\u001b[1;32m    291\u001b[0m \u001b[39mself\u001b[39m\u001b[39m.\u001b[39mcaps \u001b[39m=\u001b[39m response\u001b[39m.\u001b[39mget(\u001b[39m\"\u001b[39m\u001b[39mcapabilities\u001b[39m\u001b[39m\"\u001b[39m)\n",
      "File \u001b[0;32m~/anaconda3/envs/njstartscrape/lib/python3.11/site-packages/selenium/webdriver/remote/webdriver.py:344\u001b[0m, in \u001b[0;36mWebDriver.execute\u001b[0;34m(self, driver_command, params)\u001b[0m\n\u001b[1;32m    342\u001b[0m response \u001b[39m=\u001b[39m \u001b[39mself\u001b[39m\u001b[39m.\u001b[39mcommand_executor\u001b[39m.\u001b[39mexecute(driver_command, params)\n\u001b[1;32m    343\u001b[0m \u001b[39mif\u001b[39;00m response:\n\u001b[0;32m--> 344\u001b[0m     \u001b[39mself\u001b[39;49m\u001b[39m.\u001b[39;49merror_handler\u001b[39m.\u001b[39;49mcheck_response(response)\n\u001b[1;32m    345\u001b[0m     response[\u001b[39m\"\u001b[39m\u001b[39mvalue\u001b[39m\u001b[39m\"\u001b[39m] \u001b[39m=\u001b[39m \u001b[39mself\u001b[39m\u001b[39m.\u001b[39m_unwrap_value(response\u001b[39m.\u001b[39mget(\u001b[39m\"\u001b[39m\u001b[39mvalue\u001b[39m\u001b[39m\"\u001b[39m, \u001b[39mNone\u001b[39;00m))\n\u001b[1;32m    346\u001b[0m     \u001b[39mreturn\u001b[39;00m response\n",
      "File \u001b[0;32m~/anaconda3/envs/njstartscrape/lib/python3.11/site-packages/selenium/webdriver/remote/errorhandler.py:229\u001b[0m, in \u001b[0;36mErrorHandler.check_response\u001b[0;34m(self, response)\u001b[0m\n\u001b[1;32m    227\u001b[0m         alert_text \u001b[39m=\u001b[39m value[\u001b[39m\"\u001b[39m\u001b[39malert\u001b[39m\u001b[39m\"\u001b[39m]\u001b[39m.\u001b[39mget(\u001b[39m\"\u001b[39m\u001b[39mtext\u001b[39m\u001b[39m\"\u001b[39m)\n\u001b[1;32m    228\u001b[0m     \u001b[39mraise\u001b[39;00m exception_class(message, screen, stacktrace, alert_text)  \u001b[39m# type: ignore[call-arg]  # mypy is not smart enough here\u001b[39;00m\n\u001b[0;32m--> 229\u001b[0m \u001b[39mraise\u001b[39;00m exception_class(message, screen, stacktrace)\n",
      "\u001b[0;31mWebDriverException\u001b[0m: Message: unknown error: no chrome binary at /opt/google/chrome/google-chrome\nStacktrace:\n#0 0x560af295abf3 <unknown>\n#1 0x560af26956a7 <unknown>\n#2 0x560af26bdef9 <unknown>\n#3 0x560af26bca19 <unknown>\n#4 0x560af26fc8a1 <unknown>\n#5 0x560af26fbeef <unknown>\n#6 0x560af26f39f3 <unknown>\n#7 0x560af26c7c32 <unknown>\n#8 0x560af26c89de <unknown>\n#9 0x560af291f82d <unknown>\n#10 0x560af29240a7 <unknown>\n#11 0x560af292d4e8 <unknown>\n#12 0x560af2924ae0 <unknown>\n#13 0x560af28f580e <unknown>\n#14 0x560af2945568 <unknown>\n#15 0x560af294575a <unknown>\n#16 0x560af295420a <unknown>\n#17 0x7f1a71d69b43 <unknown>\n"
     ]
    }
   ],
   "source": [
    "from selenium import webdriver\n",
    "from selenium.webdriver.chrome.options import Options\n",
    "import time\n",
    "\n",
    "url = \"https://www.njstart.gov/bso/external/bidDetail.sdo?docId=24DPP00924&external=true&parentUrl=close\"\n",
    "\n",
    "# Setup the browser (you'll need the appropriate driver for this, e.g., chromedriver.exe for Chrome)\n",
    "# Before launching, set the default download directory if you want the downloads to be organized\n",
    "chrome_options = webdriver.ChromeOptions()\n",
    "prefs = {'download.default_directory': '/home/localadmin/Desktop/njstartscrape'}\n",
    "chrome_options.add_experimental_option('prefs', prefs)\n",
    "browser = webdriver.Chrome(options = chrome_options)\n",
    "\n",
    "# Navigate to the page\n",
    "browser.get(url)\n",
    "\n",
    "# Give some time for JavaScript to load and modify the page (if necessary)\n",
    "time.sleep(5)\n",
    "\n",
    "# Identify all relevant anchor tags with href containing \"javascript:downloadFile(\"\n",
    "links = browser.find_elements_by_xpath('//a[contains(@href, \"javascript:downloadFile(\")]')\n",
    "\n",
    "# Iterate over each link and click to initiate the download\n",
    "for link in links:\n",
    "    link.click()\n",
    "    time.sleep(2)  # Allow time for the download to initiate\n",
    "\n",
    "# Optionally close the browser after all downloads\n",
    "browser.close()\n"
   ]
  }
 ],
 "metadata": {
  "kernelspec": {
   "display_name": "njstartscrape",
   "language": "python",
   "name": "python3"
  },
  "language_info": {
   "codemirror_mode": {
    "name": "ipython",
    "version": 3
   },
   "file_extension": ".py",
   "mimetype": "text/x-python",
   "name": "python",
   "nbconvert_exporter": "python",
   "pygments_lexer": "ipython3",
   "version": "3.11.5"
  },
  "orig_nbformat": 4
 },
 "nbformat": 4,
 "nbformat_minor": 2
}
